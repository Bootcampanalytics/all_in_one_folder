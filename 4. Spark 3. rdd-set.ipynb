{
    "nbformat_minor": 0, 
    "metadata": {}, 
    "nbformat": 4, 
    "cells": [
        {
            "source": "# Set operations on RDDs", 
            "metadata": {}, 
            "cell_type": "markdown"
        }, 
        {
            "source": "[Introduction to Spark with Python, by Jose A. Dianes](https://github.com/jadianes/spark-py-notebooks)", 
            "metadata": {}, 
            "cell_type": "markdown"
        }, 
        {
            "source": "Spark supports many of the operations we have in mathematical sets, such as union and intersection, even when the RDDs themselves are not properly sets. It is important to note that these operations require that the RDDs being operated on are of the same type.  ", 
            "metadata": {}, 
            "cell_type": "markdown"
        }, 
        {
            "source": "Set operations are quite straightforward to understand as it work as expected. The only consideration comes from the fact that RDDs are not real sets, and therefore operations such as the union of RDDs doesn't remove duplicates. In this notebook we will have a brief look at `subtract`, `distinct`, and `cartesian`.       ", 
            "metadata": {}, 
            "cell_type": "markdown"
        }, 
        {
            "source": "## Getting the data and creating the RDD", 
            "metadata": {}, 
            "cell_type": "markdown"
        }, 
        {
            "source": "As we did in our first notebook, we will use the reduced dataset (10 percent) provided for the KDD Cup 1999, containing nearly half million network interactions. The file is provided as a Gzip file that we will download locally.", 
            "metadata": {}, 
            "cell_type": "markdown"
        }, 
        {
            "execution_count": 1, 
            "metadata": {
                "collapsed": false
            }, 
            "source": "import urllib\nf = urllib.urlretrieve (\"http://kdd.ics.uci.edu/databases/kddcup99/kddcup.data_10_percent.gz\", \"kddcup.data_10_percent.gz\")", 
            "outputs": [], 
            "cell_type": "code"
        }, 
        {
            "execution_count": 2, 
            "metadata": {
                "collapsed": false
            }, 
            "source": "data_file = \"./kddcup.data_10_percent.gz\"\nraw_data = sc.textFile(data_file)", 
            "outputs": [], 
            "cell_type": "code"
        }, 
        {
            "source": "## Getting attack interactions using `subtract`", 
            "metadata": {}, 
            "cell_type": "markdown"
        }, 
        {
            "source": "For illustrative purposes, imagine we already have our RDD with non attack (normal) interactions from some previous analysis.   ", 
            "metadata": {}, 
            "cell_type": "markdown"
        }, 
        {
            "execution_count": 3, 
            "metadata": {
                "collapsed": false
            }, 
            "source": "normal_raw_data = raw_data.filter(lambda x: \"normal.\" in x)", 
            "outputs": [], 
            "cell_type": "code"
        }, 
        {
            "source": "We can obtain attack interactions by subtracting normal ones from the original unfiltered RDD as follows.  ", 
            "metadata": {}, 
            "cell_type": "markdown"
        }, 
        {
            "execution_count": 4, 
            "metadata": {
                "collapsed": false
            }, 
            "source": "attack_raw_data = raw_data.subtract(normal_raw_data)", 
            "outputs": [], 
            "cell_type": "code"
        }, 
        {
            "source": "Let's do some counts to check our results.  ", 
            "metadata": {}, 
            "cell_type": "markdown"
        }, 
        {
            "execution_count": 5, 
            "metadata": {
                "collapsed": false
            }, 
            "source": "from time import time\n\n# count all\nt0 = time()\nraw_data_count = raw_data.count()\ntt = time() - t0\nprint \"All count in {} secs\".format(round(tt,3))", 
            "outputs": [
                {
                    "name": "stdout", 
                    "output_type": "stream", 
                    "text": "All count in 5.261 secs\n"
                }
            ], 
            "cell_type": "code"
        }, 
        {
            "execution_count": 6, 
            "metadata": {
                "collapsed": false
            }, 
            "source": "# count normal\nt0 = time()\nnormal_raw_data_count = normal_raw_data.count()\ntt = time() - t0\nprint \"Normal count in {} secs\".format(round(tt,3))", 
            "outputs": [
                {
                    "name": "stdout", 
                    "output_type": "stream", 
                    "text": "Normal count in 5.571 secs\n"
                }
            ], 
            "cell_type": "code"
        }, 
        {
            "execution_count": 7, 
            "metadata": {
                "collapsed": false
            }, 
            "source": "# count attacks\nt0 = time()\nattack_raw_data_count = attack_raw_data.count()\ntt = time() - t0\nprint \"Attack count in {} secs\".format(round(tt,3))", 
            "outputs": [
                {
                    "name": "stdout", 
                    "output_type": "stream", 
                    "text": "Attack count in 12.075 secs\n"
                }
            ], 
            "cell_type": "code"
        }, 
        {
            "execution_count": 8, 
            "metadata": {
                "collapsed": false
            }, 
            "source": "print \"There are {} normal interactions and {} attacks, \\\nfrom a total of {} interactions\".format(normal_raw_data_count,attack_raw_data_count,raw_data_count)", 
            "outputs": [
                {
                    "name": "stdout", 
                    "output_type": "stream", 
                    "text": "There are 97278 normal interactions and 396743 attacks, from a total of 494021 interactions\n"
                }
            ], 
            "cell_type": "code"
        }, 
        {
            "source": "So now we have two RDDs, one with normal interactions and another one with attacks.  ", 
            "metadata": {}, 
            "cell_type": "markdown"
        }, 
        {
            "source": "## Protocol and service combinations using `cartesian`", 
            "metadata": {}, 
            "cell_type": "markdown"
        }, 
        {
            "source": "We can compute the Cartesian product between two RDDs by using the `cartesian` transformation. It returns all possible pairs of elements between two RDDs. In our case we will use it to generate all the possible combinations between service and protocol in our network interactions.  \n\nFirst of all we need to isolate each collection of values in two separate RDDs. For that we will use `distinct` on the CSV-parsed dataset. From the [dataset description](http://kdd.ics.uci.edu/databases/kddcup99/kddcup.names) we know that protocol is the second column and service is the third (tag is the last one and not the first as appears in the page).   ", 
            "metadata": {}, 
            "cell_type": "markdown"
        }, 
        {
            "source": "So first, let's get the protocols.  ", 
            "metadata": {}, 
            "cell_type": "markdown"
        }, 
        {
            "execution_count": 9, 
            "metadata": {
                "collapsed": false
            }, 
            "source": "csv_data = raw_data.map(lambda x: x.split(\",\"))\nprotocols = csv_data.map(lambda x: x[1]).distinct()\nprotocols.collect()", 
            "outputs": [
                {
                    "execution_count": 9, 
                    "metadata": {}, 
                    "data": {
                        "text/plain": "[u'udp', u'icmp', u'tcp']"
                    }, 
                    "output_type": "execute_result"
                }
            ], 
            "cell_type": "code"
        }, 
        {
            "source": "Now we do the same for services.  ", 
            "metadata": {}, 
            "cell_type": "markdown"
        }, 
        {
            "execution_count": 10, 
            "metadata": {
                "collapsed": false
            }, 
            "source": "services = csv_data.map(lambda x: x[2]).distinct()\nservices.collect()", 
            "outputs": [
                {
                    "execution_count": 10, 
                    "metadata": {}, 
                    "data": {
                        "text/plain": "[u'domain',\n u'http_443',\n u'Z39_50',\n u'smtp',\n u'urp_i',\n u'private',\n u'echo',\n u'shell',\n u'red_i',\n u'eco_i',\n u'sunrpc',\n u'ftp_data',\n u'urh_i',\n u'pm_dump',\n u'pop_3',\n u'pop_2',\n u'systat',\n u'ftp',\n u'uucp',\n u'whois',\n u'netbios_dgm',\n u'efs',\n u'remote_job',\n u'daytime',\n u'ntp_u',\n u'finger',\n u'ldap',\n u'netbios_ns',\n u'kshell',\n u'iso_tsap',\n u'ecr_i',\n u'nntp',\n u'printer',\n u'domain_u',\n u'uucp_path',\n u'courier',\n u'exec',\n u'time',\n u'netstat',\n u'telnet',\n u'gopher',\n u'rje',\n u'sql_net',\n u'link',\n u'auth',\n u'netbios_ssn',\n u'csnet_ns',\n u'X11',\n u'IRC',\n u'tftp_u',\n u'login',\n u'supdup',\n u'name',\n u'nnsp',\n u'mtp',\n u'http',\n u'bgp',\n u'ctf',\n u'hostnames',\n u'klogin',\n u'vmnet',\n u'tim_i',\n u'discard',\n u'imap4',\n u'other',\n u'ssh']"
                    }, 
                    "output_type": "execute_result"
                }
            ], 
            "cell_type": "code"
        }, 
        {
            "source": "A longer list in this case.", 
            "metadata": {}, 
            "cell_type": "markdown"
        }, 
        {
            "source": "Now we can do the cartesian product.  ", 
            "metadata": {}, 
            "cell_type": "markdown"
        }, 
        {
            "execution_count": 11, 
            "metadata": {
                "collapsed": false
            }, 
            "source": "product = protocols.cartesian(services).collect()\nprint \"There are {} combinations of protocol X service\".format(len(product))", 
            "outputs": [
                {
                    "name": "stdout", 
                    "output_type": "stream", 
                    "text": "There are 198 combinations of protocol X service\n"
                }
            ], 
            "cell_type": "code"
        }, 
        {
            "source": "Obviously, for such small RDDs doesn't really make sense to use Spark cartesian product. We could have perfectly collected the values after using `distinct` and do the cartesian product locally. Moreover, `distinct` and `cartesian` are expensive operations so they must be used with care when the operating datasets are large.    ", 
            "metadata": {}, 
            "cell_type": "markdown"
        }
    ]
}