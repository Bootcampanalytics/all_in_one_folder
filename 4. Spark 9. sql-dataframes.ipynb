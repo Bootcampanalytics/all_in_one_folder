{
    "nbformat_minor": 0, 
    "metadata": {}, 
    "nbformat": 4, 
    "cells": [
        {
            "source": "# Spark SQL and Data Frames", 
            "metadata": {}, 
            "cell_type": "markdown"
        }, 
        {
            "source": "[Introduction to Spark with Python, by Jose A. Dianes](http://jadianes.github.io/spark-py-notebooks)", 
            "metadata": {}, 
            "cell_type": "markdown"
        }, 
        {
            "source": "This notebook will introduce Spark capabilities to deal with data in a structured way. Basically, everything turns around the concept of *Data Frame* and using *SQL language* to query them. We will see how the data frame abstraction, very popular in other data analytics ecosystems (e.g. R and Python/Pandas), it is very powerful when performing exploratory data analysis. In fact, it is very easy to express data queries when used together with the SQL language. Moreover, Spark distributes this column-based data structure transparently, in order to make the querying process as efficient as possible.      ", 
            "metadata": {}, 
            "cell_type": "markdown"
        }, 
        {
            "source": "## Getting the data and creating the RDD", 
            "metadata": {}, 
            "cell_type": "markdown"
        }, 
        {
            "source": "As we did in previous notebooks, we will use the reduced dataset (10 percent) provided for the [KDD Cup 1999](http://kdd.ics.uci.edu/databases/kddcup99/kddcup99.html), containing nearly half million nework interactions. The file is provided as a Gzip file that we will download locally.  ", 
            "metadata": {}, 
            "cell_type": "markdown"
        }, 
        {
            "execution_count": 1, 
            "metadata": {
                "collapsed": false
            }, 
            "source": "import urllib\nf = urllib.urlretrieve (\"http://kdd.ics.uci.edu/databases/kddcup99/kddcup.data_10_percent.gz\", \"kddcup.data_10_percent.gz\")", 
            "outputs": [], 
            "cell_type": "code"
        }, 
        {
            "execution_count": 2, 
            "metadata": {
                "collapsed": false
            }, 
            "source": "data_file = \"./kddcup.data_10_percent.gz\"\nraw_data = sc.textFile(data_file).cache()", 
            "outputs": [], 
            "cell_type": "code"
        }, 
        {
            "source": "## Getting a Data Frame", 
            "metadata": {}, 
            "cell_type": "markdown"
        }, 
        {
            "source": "A Spark `DataFrame` is a distributed collection of data organized into named columns. It is conceptually equivalent to a table in a relational database or a data frame in R or Pandas. They can be constructed from a wide array of sources such as a existing RDD in our case.", 
            "metadata": {}, 
            "cell_type": "markdown"
        }, 
        {
            "source": "The entry point into all SQL functionality in Spark is the `SQLContext` class. To create a basic instance, all we need is a `SparkContext` reference. Since we are running Spark in shell mode (using pySpark) we can use the global context object `sc` for this purpose.    ", 
            "metadata": {}, 
            "cell_type": "markdown"
        }, 
        {
            "execution_count": 3, 
            "metadata": {
                "collapsed": false
            }, 
            "source": "from pyspark.sql import SQLContext\nsqlContext = SQLContext(sc)", 
            "outputs": [], 
            "cell_type": "code"
        }, 
        {
            "source": "### Inferring the schema", 
            "metadata": {}, 
            "cell_type": "markdown"
        }, 
        {
            "source": "With a `SQLContext`, we are ready to create a `DataFrame` from our existing RDD. But first we need to tell Spark SQL the schema in our data.   ", 
            "metadata": {}, 
            "cell_type": "markdown"
        }, 
        {
            "source": "Spark SQL can convert an RDD of `Row` objects to a `DataFrame`. Rows are constructed by passing a list of key/value pairs as *kwargs* to the `Row` class. The keys define the column names, and the types are inferred by looking at the first row. Therefore, it is important that there is no missing data in the first row of the RDD in order to properly infer the schema.", 
            "metadata": {}, 
            "cell_type": "markdown"
        }, 
        {
            "source": "In our case, we first need to split the comma separated data, and then use the information in KDD's 1999 task description to obtain the [column names](http://kdd.ics.uci.edu/databases/kddcup99/kddcup.names).  ", 
            "metadata": {}, 
            "cell_type": "markdown"
        }, 
        {
            "execution_count": 4, 
            "metadata": {
                "collapsed": false
            }, 
            "source": "from pyspark.sql import Row\n\ncsv_data = raw_data.map(lambda l: l.split(\",\"))\nrow_data = csv_data.map(lambda p: Row(\n    duration=int(p[0]), \n    protocol_type=p[1],\n    service=p[2],\n    flag=p[3],\n    src_bytes=int(p[4]),\n    dst_bytes=int(p[5])\n    )\n)", 
            "outputs": [], 
            "cell_type": "code"
        }, 
        {
            "source": "Once we have our RDD of `Row` we can infer and register the schema.  ", 
            "metadata": {}, 
            "cell_type": "markdown"
        }, 
        {
            "execution_count": 5, 
            "metadata": {
                "collapsed": false
            }, 
            "source": "interactions_df = sqlContext.createDataFrame(row_data)\ninteractions_df.registerTempTable(\"interactions\")", 
            "outputs": [], 
            "cell_type": "code"
        }, 
        {
            "source": "Now we can run SQL queries over our data frame that has been registered as a table.  ", 
            "metadata": {}, 
            "cell_type": "markdown"
        }, 
        {
            "execution_count": 6, 
            "metadata": {
                "collapsed": false
            }, 
            "source": "# Select tcp network interactions with more than 1 second duration and no transfer from destination\ntcp_interactions = sqlContext.sql(\"\"\"\n    SELECT duration, dst_bytes FROM interactions WHERE protocol_type = 'tcp' AND duration > 1000 AND dst_bytes = 0\n\"\"\")\ntcp_interactions.show()", 
            "outputs": [
                {
                    "name": "stdout", 
                    "output_type": "stream", 
                    "text": "duration dst_bytes\n5057     0        \n5059     0        \n5051     0        \n5056     0        \n5051     0        \n5039     0        \n5062     0        \n5041     0        \n5056     0        \n5064     0        \n5043     0        \n5061     0        \n5049     0        \n5061     0        \n5048     0        \n5047     0        \n5044     0        \n5063     0        \n5068     0        \n5062     0        \n"
                }
            ], 
            "cell_type": "code"
        }, 
        {
            "source": "The results of SQL queries are RDDs and support all the normal RDD operations.  ", 
            "metadata": {}, 
            "cell_type": "markdown"
        }, 
        {
            "execution_count": 7, 
            "metadata": {
                "collapsed": false
            }, 
            "source": "# Output duration together with dst_bytes\ntcp_interactions_out = tcp_interactions.map(lambda p: \"Duration: {}, Dest. bytes: {}\".format(p.duration, p.dst_bytes))\nfor ti_out in tcp_interactions_out.collect():\n  print ti_out", 
            "outputs": [
                {
                    "name": "stdout", 
                    "output_type": "stream", 
                    "text": "Duration: 5057, Dest. bytes: 0\nDuration: 5059, Dest. bytes: 0\nDuration: 5051, Dest. bytes: 0\nDuration: 5056, Dest. bytes: 0\nDuration: 5051, Dest. bytes: 0\nDuration: 5039, Dest. bytes: 0\nDuration: 5062, Dest. bytes: 0\nDuration: 5041, Dest. bytes: 0\nDuration: 5056, Dest. bytes: 0\nDuration: 5064, Dest. bytes: 0\nDuration: 5043, Dest. bytes: 0\nDuration: 5061, Dest. bytes: 0\nDuration: 5049, Dest. bytes: 0\nDuration: 5061, Dest. bytes: 0\nDuration: 5048, Dest. bytes: 0\nDuration: 5047, Dest. bytes: 0\nDuration: 5044, Dest. bytes: 0\nDuration: 5063, Dest. bytes: 0\nDuration: 5068, Dest. bytes: 0\nDuration: 5062, Dest. bytes: 0\nDuration: 5046, Dest. bytes: 0\nDuration: 5052, Dest. bytes: 0\nDuration: 5044, Dest. bytes: 0\nDuration: 5054, Dest. bytes: 0\nDuration: 5039, Dest. bytes: 0\nDuration: 5058, Dest. bytes: 0\nDuration: 5051, Dest. bytes: 0\nDuration: 5032, Dest. bytes: 0\nDuration: 5063, Dest. bytes: 0\nDuration: 5040, Dest. bytes: 0\nDuration: 5051, Dest. bytes: 0\nDuration: 5066, Dest. bytes: 0\nDuration: 5044, Dest. bytes: 0\nDuration: 5051, Dest. bytes: 0\nDuration: 5036, Dest. bytes: 0\nDuration: 5055, Dest. bytes: 0\nDuration: 2426, Dest. bytes: 0\nDuration: 5047, Dest. bytes: 0\nDuration: 5057, Dest. bytes: 0\nDuration: 5037, Dest. bytes: 0\nDuration: 5057, Dest. bytes: 0\nDuration: 5062, Dest. bytes: 0\nDuration: 5051, Dest. bytes: 0\nDuration: 5051, Dest. bytes: 0\nDuration: 5053, Dest. bytes: 0\nDuration: 5064, Dest. bytes: 0\nDuration: 5044, Dest. bytes: 0\nDuration: 5051, Dest. bytes: 0\nDuration: 5033, Dest. bytes: 0\nDuration: 5066, Dest. bytes: 0\nDuration: 5063, Dest. bytes: 0\nDuration: 5056, Dest. bytes: 0\nDuration: 5042, Dest. bytes: 0\nDuration: 5063, Dest. bytes: 0\nDuration: 5060, Dest. bytes: 0\nDuration: 5056, Dest. bytes: 0\nDuration: 5049, Dest. bytes: 0\nDuration: 5043, Dest. bytes: 0\nDuration: 5039, Dest. bytes: 0\nDuration: 5041, Dest. bytes: 0\nDuration: 42448, Dest. bytes: 0\nDuration: 42088, Dest. bytes: 0\nDuration: 41065, Dest. bytes: 0\nDuration: 40929, Dest. bytes: 0\nDuration: 40806, Dest. bytes: 0\nDuration: 40682, Dest. bytes: 0\nDuration: 40571, Dest. bytes: 0\nDuration: 40448, Dest. bytes: 0\nDuration: 40339, Dest. bytes: 0\nDuration: 40232, Dest. bytes: 0\nDuration: 40121, Dest. bytes: 0\nDuration: 36783, Dest. bytes: 0\nDuration: 36674, Dest. bytes: 0\nDuration: 36570, Dest. bytes: 0\nDuration: 36467, Dest. bytes: 0\nDuration: 36323, Dest. bytes: 0\nDuration: 36204, Dest. bytes: 0\nDuration: 32038, Dest. bytes: 0\nDuration: 31925, Dest. bytes: 0\nDuration: 31809, Dest. bytes: 0\nDuration: 31709, Dest. bytes: 0\nDuration: 31601, Dest. bytes: 0\nDuration: 31501, Dest. bytes: 0\nDuration: 31401, Dest. bytes: 0\nDuration: 31301, Dest. bytes: 0\nDuration: 31194, Dest. bytes: 0\nDuration: 31061, Dest. bytes: 0\nDuration: 30935, Dest. bytes: 0\nDuration: 30835, Dest. bytes: 0\nDuration: 30735, Dest. bytes: 0\nDuration: 30619, Dest. bytes: 0\nDuration: 30518, Dest. bytes: 0\nDuration: 30418, Dest. bytes: 0\nDuration: 30317, Dest. bytes: 0\nDuration: 30217, Dest. bytes: 0\nDuration: 30077, Dest. bytes: 0\nDuration: 25420, Dest. bytes: 0\nDuration: 22921, Dest. bytes: 0\nDuration: 22821, Dest. bytes: 0\nDuration: 22721, Dest. bytes: 0\nDuration: 22616, Dest. bytes: 0\nDuration: 22516, Dest. bytes: 0\nDuration: 22416, Dest. bytes: 0\nDuration: 22316, Dest. bytes: 0\nDuration: 22216, Dest. bytes: 0\nDuration: 21987, Dest. bytes: 0\nDuration: 21887, Dest. bytes: 0\nDuration: 21767, Dest. bytes: 0\nDuration: 21661, Dest. bytes: 0\nDuration: 21561, Dest. bytes: 0\nDuration: 21455, Dest. bytes: 0\nDuration: 21334, Dest. bytes: 0\nDuration: 21223, Dest. bytes: 0\nDuration: 21123, Dest. bytes: 0\nDuration: 20983, Dest. bytes: 0\nDuration: 14682, Dest. bytes: 0\nDuration: 14420, Dest. bytes: 0\nDuration: 14319, Dest. bytes: 0\nDuration: 14198, Dest. bytes: 0\nDuration: 14098, Dest. bytes: 0\nDuration: 13998, Dest. bytes: 0\nDuration: 13898, Dest. bytes: 0\nDuration: 13796, Dest. bytes: 0\nDuration: 13678, Dest. bytes: 0\nDuration: 13578, Dest. bytes: 0\nDuration: 13448, Dest. bytes: 0\nDuration: 13348, Dest. bytes: 0\nDuration: 13241, Dest. bytes: 0\nDuration: 13141, Dest. bytes: 0\nDuration: 13033, Dest. bytes: 0\nDuration: 12933, Dest. bytes: 0\nDuration: 12833, Dest. bytes: 0\nDuration: 12733, Dest. bytes: 0\nDuration: 12001, Dest. bytes: 0\nDuration: 5678, Dest. bytes: 0\nDuration: 5010, Dest. bytes: 0\nDuration: 1298, Dest. bytes: 0\nDuration: 1031, Dest. bytes: 0\nDuration: 36438, Dest. bytes: 0\n"
                }
            ], 
            "cell_type": "code"
        }, 
        {
            "source": "We can easily have a look at our data frame schema using `printSchema`.  ", 
            "metadata": {}, 
            "cell_type": "markdown"
        }, 
        {
            "execution_count": 8, 
            "metadata": {
                "collapsed": false
            }, 
            "source": "interactions_df.printSchema()", 
            "outputs": [
                {
                    "name": "stdout", 
                    "output_type": "stream", 
                    "text": "root\n |-- dst_bytes: long (nullable = true)\n |-- duration: long (nullable = true)\n |-- flag: string (nullable = true)\n |-- protocol_type: string (nullable = true)\n |-- service: string (nullable = true)\n |-- src_bytes: long (nullable = true)\n\n"
                }
            ], 
            "cell_type": "code"
        }, 
        {
            "source": "## Queries as `DataFrame` operations", 
            "metadata": {}, 
            "cell_type": "markdown"
        }, 
        {
            "source": "Spark `DataFrame` provides a domain-specific language for structured data manipulation. This language includes methods we can concatenate in order to do selection, filtering, grouping, etc. For example, let's say we want to count how many interactions are there for each protocol type. We can proceed as follows.  ", 
            "metadata": {}, 
            "cell_type": "markdown"
        }, 
        {
            "execution_count": 9, 
            "metadata": {
                "collapsed": false
            }, 
            "source": "from time import time\n\nt0 = time()\ninteractions_df.select(\"protocol_type\", \"duration\", \"dst_bytes\").groupBy(\"protocol_type\").count().show()\ntt = time() - t0\n\nprint \"Query performed in {} seconds\".format(round(tt,3))", 
            "outputs": [
                {
                    "name": "stdout", 
                    "output_type": "stream", 
                    "text": "protocol_type count \nudp           20354 \ntcp           190065\nicmp          283602\nQuery performed in 20.568 seconds\n"
                }
            ], 
            "cell_type": "code"
        }, 
        {
            "source": "Now imagine that we want to count how many interactions last more than 1 second, with no data transfer from destination, grouped by protocol type. We can just add to filter calls to the previous.   ", 
            "metadata": {}, 
            "cell_type": "markdown"
        }, 
        {
            "execution_count": 10, 
            "metadata": {
                "collapsed": false
            }, 
            "source": "t0 = time()\ninteractions_df.select(\"protocol_type\", \"duration\", \"dst_bytes\").filter(interactions_df.duration>1000).filter(interactions_df.dst_bytes==0).groupBy(\"protocol_type\").count().show()\ntt = time() - t0\n\nprint \"Query performed in {} seconds\".format(round(tt,3))", 
            "outputs": [
                {
                    "name": "stdout", 
                    "output_type": "stream", 
                    "text": "protocol_type count\ntcp           139  \nQuery performed in 16.641 seconds\n"
                }
            ], 
            "cell_type": "code"
        }, 
        {
            "source": "We can use this to perform some [exploratory data analysis](http://en.wikipedia.org/wiki/Exploratory_data_analysis). Let's count how many attack and normal interactions we have. First we need to add the label column to our data.    ", 
            "metadata": {}, 
            "cell_type": "markdown"
        }, 
        {
            "execution_count": 11, 
            "metadata": {
                "collapsed": false
            }, 
            "source": "def get_label_type(label):\n    if label!=\"normal.\":\n        return \"attack\"\n    else:\n        return \"normal\"\n    \nrow_labeled_data = csv_data.map(lambda p: Row(\n    duration=int(p[0]), \n    protocol_type=p[1],\n    service=p[2],\n    flag=p[3],\n    src_bytes=int(p[4]),\n    dst_bytes=int(p[5]),\n    label=get_label_type(p[41])\n    )\n)\ninteractions_labeled_df = sqlContext.createDataFrame(row_labeled_data)", 
            "outputs": [], 
            "cell_type": "code"
        }, 
        {
            "source": "This time we don't need to register the schema since we are going to use the OO query interface.  ", 
            "metadata": {}, 
            "cell_type": "markdown"
        }, 
        {
            "source": "Let's check the previous actually works by counting attack and normal data in our data frame.  ", 
            "metadata": {}, 
            "cell_type": "markdown"
        }, 
        {
            "execution_count": 12, 
            "metadata": {
                "collapsed": false
            }, 
            "source": "t0 = time()\ninteractions_labeled_df.select(\"label\").groupBy(\"label\").count().show()\ntt = time() - t0\n\nprint \"Query performed in {} seconds\".format(round(tt,3))", 
            "outputs": [
                {
                    "name": "stdout", 
                    "output_type": "stream", 
                    "text": "label  count \nattack 396743\nnormal 97278 \nQuery performed in 17.325 seconds\n"
                }
            ], 
            "cell_type": "code"
        }, 
        {
            "source": "Now we want to count them by label and protocol type, in order to see how important the protocol type is to detect when an interaction is or not an attack.  ", 
            "metadata": {}, 
            "cell_type": "markdown"
        }, 
        {
            "execution_count": 13, 
            "metadata": {
                "collapsed": false
            }, 
            "source": "t0 = time()\ninteractions_labeled_df.select(\"label\", \"protocol_type\").groupBy(\"label\", \"protocol_type\").count().show()\ntt = time() - t0\n\nprint \"Query performed in {} seconds\".format(round(tt,3))", 
            "outputs": [
                {
                    "name": "stdout", 
                    "output_type": "stream", 
                    "text": "label  protocol_type count \nattack udp           1177  \nattack tcp           113252\nattack icmp          282314\nnormal udp           19177 \nnormal tcp           76813 \nnormal icmp          1288  \nQuery performed in 17.253 seconds\n"
                }
            ], 
            "cell_type": "code"
        }, 
        {
            "source": "At first sight it seems that *udp* interactions are in lower proportion between network attacks versus other protocol types.  ", 
            "metadata": {}, 
            "cell_type": "markdown"
        }, 
        {
            "source": "And we can do much more sophisticated groupings. For example, add to the previous a \"split\" based on data transfer from target.   ", 
            "metadata": {}, 
            "cell_type": "markdown"
        }, 
        {
            "execution_count": 14, 
            "metadata": {
                "collapsed": false
            }, 
            "source": "t0 = time()\ninteractions_labeled_df.select(\"label\", \"protocol_type\", \"dst_bytes\").groupBy(\"label\", \"protocol_type\", interactions_labeled_df.dst_bytes==0).count().show()\ntt = time() - t0\n\nprint \"Query performed in {} seconds\".format(round(tt,3))", 
            "outputs": [
                {
                    "name": "stdout", 
                    "output_type": "stream", 
                    "text": "label  protocol_type (dst_bytes = 0) count \nnormal icmp          true            1288  \nattack udp           true            1166  \nattack udp           false           11    \nnormal udp           true            3594  \nnormal udp           false           15583 \nattack tcp           true            110583\nattack tcp           false           2669  \nnormal tcp           true            9313  \nnormal tcp           false           67500 \nattack icmp          true            282314\nQuery performed in 17.284 seconds\n"
                }
            ], 
            "cell_type": "code"
        }, 
        {
            "source": "We see how relevant is this new split to determine if a network interaction is an attack.  ", 
            "metadata": {}, 
            "cell_type": "markdown"
        }, 
        {
            "source": "We will stop here, but we can see how powerful this type of queries are in order to explore our data. Actually we can replicate all the splits we saw in previous notebooks, when introducing classification trees, just by selecting, groping, and filtering our dataframe. For a more detailed (but less real-world) list of Spark's `DataFrame` operations and data sources, have a look at the official documentation [here](https://spark.apache.org/docs/latest/sql-programming-guide.html#dataframe-operations).    ", 
            "metadata": {}, 
            "cell_type": "markdown"
        }
    ]
}